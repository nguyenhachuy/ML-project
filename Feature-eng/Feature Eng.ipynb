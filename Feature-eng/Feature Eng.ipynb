{
 "cells": [
  {
   "cell_type": "code",
   "execution_count": 27,
   "metadata": {},
   "outputs": [],
   "source": [
    "import pandas as pd\n",
    "import numpy as np\n",
    "import matplotlib.pyplot as plt\n",
    "import io\n",
    "import os\n",
    "import sys\n",
    "import time\n",
    "import json\n",
    "from IPython.display import display\n",
    "from time import strftime, gmtime\n",
    "import sagemaker\n",
    "from sagemaker.predictor import csv_serializer\n",
    "# import libraries\n",
    "import boto3, re, sys, math, json, os, sagemaker, urllib.request, random\n",
    "from sagemaker import get_execution_role\n",
    "import numpy as np                                \n",
    "import pandas as pd                               \n",
    "import matplotlib.pyplot as plt                   \n",
    "from IPython.display import Image                 \n",
    "from IPython.display import display               \n",
    "from time import gmtime, strftime                 \n",
    "from sagemaker.predictor import csv_serializer   \n",
    "from pandas.api.types import CategoricalDtype\n",
    "from sklearn.model_selection import train_test_split\n",
    "import xgboost as xgb\n"
   ]
  },
  {
   "cell_type": "code",
   "execution_count": 28,
   "metadata": {},
   "outputs": [],
   "source": [
    "#split the downloaded data into train/test/validation files\n",
    "FILE_TRAIN = 'train'\n",
    "FILE_VALIDATION = 'validation'\n",
    "FILE_TEST = 'test'\n",
    "columns = ['WILL_ATTACH_IN_60', 'ORGANIZATION_ID', \n",
    "       'PLAN_TIER', 'BILLING_PLAN_ID', 'CC_FEE', 'ASP', 'INDUSTRY', 'ORGSIZE',\n",
    "       'BANK_CONNECTED', 'BANK_VERIFIED', 'CREATED', 'SCHEDULED', 'OMW',\n",
    "       'STARTED', 'IN_PROGRESS', 'ESTIMATED', 'INVOICED', 'TOTALPAYMENT_COUNT',\n",
    "       'TOTALPAYMENT_AMOUNT', 'ONLINE_BOOKINGS', 'CC_COUNT', 'CC_AMOUNT',\n",
    "       'INSTAPAY_AMOUNT', 'ACH_COUNT', 'CASH_COUNT', 'CASH_AMOUNT',\n",
    "       'CHECK_COUNT', 'CHECK_AMOUNT', 'OTHER_COUNT', 'DAYS_SINCE_ENROLLMENT',\n",
    "       'REASON_TO_ADOPT', 'STAGENAME_PRODUCT', 'CC_COUNT_ALL',\n",
    "       'AVG_TIME_TO_PAYMENT', 'COMMITMENTS_ALL', 'COMMITMENTS', 'CC_PERC',\n",
    "       'CASH_PERC', 'CHECK_PERC', 'OTHER_PERC', 'ACH_PERC']\n",
    "columns_new = ['label', 'ORGANIZATION_ID', \n",
    "       'PLAN_TIER', 'BILLING_PLAN_ID', 'CC_FEE', 'ASP', 'INDUSTRY', 'ORGSIZE',\n",
    "       'BANK_CONNECTED', 'BANK_VERIFIED', 'CREATED', 'SCHEDULED', 'OMW',\n",
    "       'STARTED', 'IN_PROGRESS', 'ESTIMATED', 'INVOICED', 'TOTALPAYMENT_COUNT',\n",
    "       'TOTALPAYMENT_AMOUNT', 'ONLINE_BOOKINGS', 'CC_AMOUNT',\n",
    "       'INSTAPAY_AMOUNT', 'ACH_COUNT', 'CASH_COUNT', 'CASH_AMOUNT',\n",
    "       'CHECK_COUNT', 'CHECK_AMOUNT', 'OTHER_COUNT', 'DAYS_SINCE_ENROLLMENT',\n",
    "       'REASON_TO_ADOPT', 'STAGENAME_PRODUCT', 'CC_COUNT_ALL',\n",
    "       'AVG_TIME_TO_PAYMENT', 'COMMITMENTS_ALL', 'COMMITMENTS', 'CC_PERC',\n",
    "       'CASH_PERC', 'CHECK_PERC', 'OTHER_PERC', 'ACH_PERC']"
   ]
  },
  {
   "cell_type": "code",
   "execution_count": 54,
   "metadata": {},
   "outputs": [
    {
     "name": "stdout",
     "output_type": "stream",
     "text": [
      "(1205612, 43)\n"
     ]
    }
   ],
   "source": [
    "# df = pd.read_csv('../cc_attach_project.csv',index_col=0)\n",
    "# print(df.shape)\n",
    "# groups = df.groupby('ORGANIZATION_ID')\n",
    "\n",
    "# split_perc = int(np.rint(df.shape[0] * 0.80))\n",
    "# train_groups = set()\n",
    "# test_groups = set()\n",
    "# train_rows = 0\n",
    "# for name, group in groups:\n",
    "#     train_rows += group.shape[0]\n",
    "#     train_groups.add(name)\n",
    "#     if train_rows > split_perc:\n",
    "#         break"
   ]
  },
  {
   "cell_type": "code",
   "execution_count": null,
   "metadata": {},
   "outputs": [],
   "source": [
    "# train = groups.filter(lambda x: x.name in train_groups)\n",
    "# test = groups.filter(lambda x: x.name not in train_groups)\n",
    "# s1 = set(train['ORGANIZATION_ID'].unique())\n",
    "# s2 = set(test['ORGANIZATION_ID'].unique())\n",
    "# print(len(s1.intersection(s2)))\n",
    "# print(train_rows, split_perc)\n",
    "# print(train.shape, test.shape)\n"
   ]
  },
  {
   "cell_type": "code",
   "execution_count": 29,
   "metadata": {},
   "outputs": [],
   "source": [
    "def train_test_group_by_id(df, perc):\n",
    "    groups = df.groupby('ORGANIZATION_ID')\n",
    "\n",
    "    split_perc = int(np.rint(df.shape[0] * perc))\n",
    "    train_groups = set()\n",
    "    test_groups = set()\n",
    "    train_rows = 0\n",
    "    for name, group in groups:\n",
    "        train_rows += group.shape[0]\n",
    "        train_groups.add(name)\n",
    "        if train_rows > split_perc:\n",
    "            break\n",
    "    train = groups.filter(lambda x: x.name in train_groups)\n",
    "    test = groups.filter(lambda x: x.name not in train_groups)\n",
    "    s1 = set(train['ORGANIZATION_ID'].unique())\n",
    "    s2 = set(test['ORGANIZATION_ID'].unique())\n",
    "    print(len(s1.intersection(s2)))\n",
    "    print(train_rows, split_perc)\n",
    "    print(train.shape, test.shape)\n",
    "    return train, test\n",
    "\n",
    "def assign_weight(row):\n",
    "    attach_label = row['WILL_ATTACH_IN_60']\n",
    "    cc_count = row['CC_COUNT']\n",
    "    if attach_label == 1 and cc_count > 0:\n",
    "        return 0\n",
    "    elif attach_label == 0 and cc_count <= 0:\n",
    "        return 1\n",
    "    elif attach_label == 0 and cc_count > 0:\n",
    "        return 2\n",
    "    elif attach_label == 1 and cc_count <= 0:\n",
    "        return 3\n",
    "\n",
    "def get_dataset_new():\n",
    "    df = pd.read_csv('../cc_attach_project.csv',index_col=0)\n",
    "    print('Success: Data loaded into dataframe.')\n",
    "    print(df.shape)\n",
    "    # df['ENROLLMENT_DATE'] = pd.to_datetime(df['ENROLLMENT_DATE'])\n",
    "    # df['DATE'] = pd.to_datetime(df['DATE'])\n",
    "    df['STAGENAME_PRODUCT'] = df['STAGENAME_PRODUCT'].fillna('not called')\n",
    "    df['INDUSTRY'] = df['INDUSTRY'].fillna('missing')\n",
    "    df['CASH_PERC'] = df['CASH_PERC'].fillna(0.0)  \n",
    "    df['CHECK_PERC'] = df['CHECK_PERC'].fillna(0.0)\n",
    "    df['OTHER_PERC'] = df['OTHER_PERC'].fillna(0.0)\n",
    "    df['ACH_PERC'] = df['ACH_PERC'].fillna(0.0)\n",
    "    df['CC_PERC'] = df['CC_PERC'].fillna(0.0)\n",
    "    # df['BILLING_PLAN_ID'] = df['BILLING_PLAN_ID'].astype('int64')\n",
    "    cat_dtype = CategoricalDtype(categories=(df['PLAN_TIER'].unique()), ordered=True)\n",
    "    df['PLAN_TIER'] = df['PLAN_TIER'].astype(cat_dtype) #small > medium?\n",
    "    df['INDUSTRY'] = df['INDUSTRY'].astype('category')\n",
    "    df['ORGSIZE'] = df['ORGSIZE'].abs()\n",
    "    # df['ORGSIZE'].replace(0,1, inplace=True) #should I do this?\n",
    "\n",
    "    #convert to all floats\n",
    "    # df = df.apply(pd.to_numeric, errors='ignore', downcast='float')\n",
    "\n",
    "    #org_id same means same org!!!\n",
    "    weight = df.apply(assign_weight, axis=1)\n",
    "\n",
    "    df.insert(0, 'label', weight, allow_duplicates=False) \n",
    "    to_drop = ['ENROLLMENT_DATE', 'DATE', 'CC_COUNT', 'WILL_ATTACH_IN_60']\n",
    "    df.drop(to_drop, inplace=True, axis=1)\n",
    "\n",
    "    df = df.reindex(columns_new, axis=\"columns\")\n",
    "#     df = df.sample(frac=1, replace=False, random_state=1) #Shuffle the df\n",
    "\n",
    "    df = pd.get_dummies(df)\n",
    "    \n",
    "    print(df.shape)\n",
    "#     train, test = train_test_split(df, test_size=0.15, random_state=123, shuffle=False)\n",
    "    \n",
    "#     print(train.shape, test.shape)\n",
    "    \n",
    "    return df\n",
    "\n",
    "def get_dataset():\n",
    "    df = pd.read_csv('../cc_attach_project.csv',index_col=0)\n",
    "    print('Success: Data loaded into dataframe.')\n",
    "    print(df.shape)\n",
    "\n",
    "    to_drop = ['ENROLLMENT_DATE', 'DATE']\n",
    "    df.drop(to_drop, inplace=True, axis=1)\n",
    "    # df['ENROLLMENT_DATE'] = pd.to_datetime(df['ENROLLMENT_DATE'])\n",
    "    # df['DATE'] = pd.to_datetime(df['DATE'])\n",
    "    df['STAGENAME_PRODUCT'] = df['STAGENAME_PRODUCT'].fillna('not called')\n",
    "    df['INDUSTRY'] = df['INDUSTRY'].fillna('missing')\n",
    "    df['CASH_PERC'] = df['CASH_PERC'].fillna(0.0)  \n",
    "    df['CHECK_PERC'] = df['CHECK_PERC'].fillna(0.0)\n",
    "    df['OTHER_PERC'] = df['OTHER_PERC'].fillna(0.0)\n",
    "    df['ACH_PERC'] = df['ACH_PERC'].fillna(0.0)\n",
    "    df['CC_PERC'] = df['CC_PERC'].fillna(0.0)\n",
    "    # df['BILLING_PLAN_ID'] = df['BILLING_PLAN_ID'].astype('int64')\n",
    "    cat_dtype = CategoricalDtype(categories=(df['PLAN_TIER'].unique()), ordered=True)\n",
    "    df['PLAN_TIER'] = df['PLAN_TIER'].astype(cat_dtype) #small > medium?\n",
    "    df['INDUSTRY'] = df['INDUSTRY'].astype('category')\n",
    "    df['ORGSIZE'] = df['ORGSIZE'].abs()\n",
    "    # df['ORGSIZE'].replace(0,1, inplace=True) #should I do this?\n",
    "\n",
    "    df = df.reindex(columns, axis=\"columns\")\n",
    "#     df = df.sample(frac=1, replace=False, random_state=1) #Shuffle the df\n",
    "\n",
    "    df = pd.get_dummies(df)\n",
    "    \n",
    "    print(df.shape)\n",
    "    train, test = train_test_split(df, test_size=0.15, random_state=123)\n",
    "    \n",
    "#     print(train.shape, test.shape)\n",
    "    \n",
    "    return (train, test)\n"
   ]
  },
  {
   "cell_type": "code",
   "execution_count": 30,
   "metadata": {},
   "outputs": [
    {
     "name": "stdout",
     "output_type": "stream",
     "text": [
      "Success: Data loaded into dataframe.\n",
      "(1205612, 43)\n",
      "(1205612, 171)\n"
     ]
    }
   ],
   "source": [
    "train,test = get_dataset()\n",
    "train.to_csv('{}.csv'.format(FILE_TRAIN), header=True, index=False)\n",
    "test.to_csv('{}.csv'.format(FILE_TEST), header=True, index=False)\n",
    "\n",
    "# train_new = get_dataset_new()\n",
    "# train_new.to_csv('{}-new.csv'.format(FILE_TRAIN), header=True, index=False)\n",
    "# test_new.to_csv('{}-new.csv'.format(FILE_TEST), header=True, index=False)"
   ]
  },
  {
   "cell_type": "code",
   "execution_count": 31,
   "metadata": {},
   "outputs": [],
   "source": [
    "# y_train = train['WILL_ATTACH_IN_60']\n",
    "# y_test = test['WILL_ATTACH_IN_60']\n",
    "# to_drop = ['WILL_ATTACH_IN_60']\n",
    "# train.drop(to_drop, axis=1, inplace=True)\n",
    "# test.drop(to_drop, axis=1, inplace=True)\n",
    "\n",
    "# train = pd.get_dummies(train)\n",
    "# test = pd.get_dummies(test)\n",
    "\n",
    "# X_train, X_test, y_train, y_test = train_test_split(X, y, \n",
    "#                                                     test_size=0.2, \n",
    "#                                                     random_state=123)\n",
    "# print(X_train.shape, X_test.shape, y_train.shape, y_test.shape)\n",
    "# y_train= y_train.values.reshape(-1, 1)\n",
    "# y_test= y_test.values.reshape(-1, 1)\n",
    "\n",
    "# scaler_X = preprocessing.StandardScaler().fit(X_train)\n",
    "# scaler_y = preprocessing.StandardScaler().fit(y_train)\n",
    "# X_train_scaled = scaler_X.transform(X_train)\n",
    "# y_train_scaled = scaler_y.transform(y_train)\n",
    "\n"
   ]
  },
  {
   "cell_type": "code",
   "execution_count": 32,
   "metadata": {},
   "outputs": [],
   "source": [
    "# dtrain = xgb.DMatrix(train, label=y_train)\n",
    "# dtest = xgb.DMatrix(test, label=y_test)"
   ]
  },
  {
   "cell_type": "code",
   "execution_count": 33,
   "metadata": {},
   "outputs": [],
   "source": [
    "# param = {'max_depth': 7, 'eta': 0.3, 'silent': 0, 'objective': 'binary:logistic'}\n",
    "# param['eval_metric'] = 'logloss'\n",
    "# evallist = [(dtest, 'eval'), (dtrain, 'train')]\n"
   ]
  },
  {
   "cell_type": "code",
   "execution_count": 34,
   "metadata": {},
   "outputs": [],
   "source": [
    "# num_round = 1000\n",
    "# bst = xgb.train(param, dtrain, num_round, evallist, early_stopping_rounds=10)\n"
   ]
  },
  {
   "cell_type": "code",
   "execution_count": 35,
   "metadata": {},
   "outputs": [],
   "source": [
    "\n",
    "\n",
    "# bst.get_fscore()\n"
   ]
  },
  {
   "cell_type": "code",
   "execution_count": 36,
   "metadata": {},
   "outputs": [],
   "source": [
    "# y_val = val['WILL_ATTACH_IN_60']\n",
    "# to_drop = ['WILL_ATTACH_IN_60']\n",
    "# val.drop(to_drop, axis=1, inplace=True)\n",
    "# val = pd.get_dummies(val)\n",
    "\n",
    "# dval = xgb.DMatrix(val)\n",
    "\n",
    "# ypred = bst.predict(dval, ntree_limit=bst.best_ntree_limit)\n"
   ]
  },
  {
   "cell_type": "code",
   "execution_count": 37,
   "metadata": {},
   "outputs": [],
   "source": [
    "# valpred = np.exp(ypred)\n",
    "# from sklearn.metrics import mean_squared_error\n",
    "# mean_squared_error(y_val, valpred)"
   ]
  },
  {
   "cell_type": "code",
   "execution_count": 38,
   "metadata": {},
   "outputs": [],
   "source": [
    "# bst.save_model('basic-xgb.model')\n",
    "# bst.dump_model('basic-xgb.raw.txt')\n",
    "# text_file = open(\"f_importance.txt\", \"w\")\n",
    "# print(\"feature_importance\", file=text_file)\n",
    "# print(bst.get_fscore(), file=text_file)\n",
    "# text_file.close()\n"
   ]
  },
  {
   "cell_type": "code",
   "execution_count": null,
   "metadata": {},
   "outputs": [],
   "source": []
  }
 ],
 "metadata": {
  "kernelspec": {
   "display_name": "Python 3",
   "language": "python",
   "name": "python3"
  },
  "language_info": {
   "codemirror_mode": {
    "name": "ipython",
    "version": 3
   },
   "file_extension": ".py",
   "mimetype": "text/x-python",
   "name": "python",
   "nbconvert_exporter": "python",
   "pygments_lexer": "ipython3",
   "version": "3.7.1"
  }
 },
 "nbformat": 4,
 "nbformat_minor": 2
}
