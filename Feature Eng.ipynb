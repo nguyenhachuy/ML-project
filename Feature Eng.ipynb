{
 "cells": [
  {
   "cell_type": "code",
   "execution_count": 112,
   "metadata": {},
   "outputs": [
    {
     "name": "stderr",
     "output_type": "stream",
     "text": [
      "/anaconda3/lib/python3.7/site-packages/numpy/lib/arraysetops.py:522: FutureWarning: elementwise comparison failed; returning scalar instead, but in the future will perform elementwise comparison\n",
      "  mask |= (ar1 == a)\n"
     ]
    },
    {
     "name": "stdout",
     "output_type": "stream",
     "text": [
      "Success: Data loaded into dataframe.\n"
     ]
    }
   ],
   "source": [
    "import pandas as pd\n",
    "import numpy as np\n",
    "from pandas.api.types import CategoricalDtype    \n",
    " \n",
    "from sklearn.model_selection import train_test_split\n",
    "from sklearn import preprocessing\n",
    "from sklearn.ensemble import RandomForestRegressor\n",
    "from sklearn.pipeline import make_pipeline\n",
    "from sklearn.model_selection import GridSearchCV\n",
    "from sklearn.metrics import mean_squared_error, r2_score\n",
    "from sklearn.externals import joblib \n",
    "\n",
    "try:\n",
    "    df = pd.read_csv('./cc_attach_project.csv',index_col=0)\n",
    "    print('Success: Data loaded into dataframe.')\n",
    "except Exception as e:\n",
    "    print('Data load error: ',e)\n",
    "# df = df.sample(n=20000, random_state=1)"
   ]
  },
  {
   "cell_type": "code",
   "execution_count": 118,
   "metadata": {},
   "outputs": [
    {
     "data": {
      "text/plain": [
       "0    1171512\n",
       "1      32546\n",
       "2       1524\n",
       "3         30\n",
       "Name: COMMITMENTS, dtype: int64"
      ]
     },
     "execution_count": 118,
     "metadata": {},
     "output_type": "execute_result"
    }
   ],
   "source": [
    "df['COMMITMENTS'].value_counts()"
   ]
  },
  {
   "cell_type": "code",
   "execution_count": 100,
   "metadata": {},
   "outputs": [],
   "source": [
    "\n",
    "def combinations(cc_count, will_attach):\n",
    "    if cc_count > 0 and will_attach == 1:\n",
    "        return 0\n",
    "    elif cc_count <= 0 and will_attach == 0:\n",
    "        return 1\n",
    "    elif cc_count > 0 and will_attach == 0:\n",
    "        return 2\n",
    "    else:\n",
    "        return 3\n",
    "    \n",
    "to_drop = ['ORGANIZATION_ID', 'ENROLLMENT_DATE', 'DATE']\n",
    "df.drop(to_drop, inplace=True, axis=1)\n",
    "\n",
    "df['combination'] = df.apply(lambda row: combinations(row['CC_COUNT'], row['WILL_ATTACH_IN_60']), axis=1)\n",
    "df['STAGENAME_PRODUCT'] = df['STAGENAME_PRODUCT'].fillna('not called')\n",
    "df['INDUSTRY'] = df['INDUSTRY'].fillna('missing')\n",
    "df['CASH_PERC'] = df['CASH_PERC'].fillna(0.0)  \n",
    "df['CHECK_PERC'] = df['CHECK_PERC'].fillna(0.0)\n",
    "df['OTHER_PERC'] = df['OTHER_PERC'].fillna(0.0)\n",
    "df['ACH_PERC'] = df['ACH_PERC'].fillna(0.0)\n",
    "df['CC_PERC'] = df['CC_PERC'].fillna(0.0)\n",
    "df['BILLING_PLAN_ID'] = df['BILLING_PLAN_ID'].astype('int64')\n",
    "cat_dtype = CategoricalDtype(categories=(df['PLAN_TIER'].unique()), ordered=True)\n",
    "df['PLAN_TIER'] = df['PLAN_TIER'].astype(cat_dtype) #small > medium?\n",
    "df['INDUSTRY'] = df['INDUSTRY'].astype('category')\n",
    "df['ORGSIZE'] = df['ORGSIZE'].abs()\n",
    "df['ORGSIZE'].replace(0,1, inplace=True) #should I do this?\n",
    "#convert to all floats\n",
    "df = df.apply(pd.to_numeric, errors='ignore', downcast='float')\n"
   ]
  },
  {
   "cell_type": "code",
   "execution_count": 101,
   "metadata": {},
   "outputs": [],
   "source": [
    "for column in df:\n",
    "    if df[column].dtype == np.float32 or df[column].dtype == np.int64:\n",
    "        df[column] = df[column].astype('float64')\n",
    "\n",
    "df['combination'] = pd.to_numeric(df['combination'], errors='raise', downcast='integer')"
   ]
  },
  {
   "cell_type": "code",
   "execution_count": 102,
   "metadata": {},
   "outputs": [
    {
     "name": "stdout",
     "output_type": "stream",
     "text": [
      "WILL_ATTACH_IN_60        float64\n",
      "PLAN_TIER                 object\n",
      "BILLING_PLAN_ID          float64\n",
      "CC_FEE                   float64\n",
      "ASP                      float64\n",
      "INDUSTRY                  object\n",
      "ORGSIZE                  float64\n",
      "BANK_CONNECTED           float64\n",
      "BANK_VERIFIED            float64\n",
      "CREATED                  float64\n",
      "SCHEDULED                float64\n",
      "OMW                      float64\n",
      "STARTED                  float64\n",
      "IN_PROGRESS              float64\n",
      "ESTIMATED                float64\n",
      "INVOICED                 float64\n",
      "TOTALPAYMENT_COUNT       float64\n",
      "TOTALPAYMENT_AMOUNT      float64\n",
      "ONLINE_BOOKINGS          float64\n",
      "CC_COUNT                 float64\n",
      "CC_AMOUNT                float64\n",
      "INSTAPAY_AMOUNT          float64\n",
      "ACH_COUNT                float64\n",
      "CASH_COUNT               float64\n",
      "CASH_AMOUNT              float64\n",
      "CHECK_COUNT              float64\n",
      "CHECK_AMOUNT             float64\n",
      "OTHER_COUNT              float64\n",
      "DAYS_SINCE_ENROLLMENT    float64\n",
      "REASON_TO_ADOPT          float64\n",
      "STAGENAME_PRODUCT         object\n",
      "CC_COUNT_ALL             float64\n",
      "AVG_TIME_TO_PAYMENT      float64\n",
      "COMMITMENTS_ALL          float64\n",
      "COMMITMENTS              float64\n",
      "CC_PERC                  float64\n",
      "CASH_PERC                float64\n",
      "CHECK_PERC               float64\n",
      "OTHER_PERC               float64\n",
      "ACH_PERC                 float64\n",
      "combination                 int8\n",
      "dtype: object\n"
     ]
    }
   ],
   "source": [
    "print(df.dtypes)"
   ]
  },
  {
   "cell_type": "code",
   "execution_count": 103,
   "metadata": {},
   "outputs": [
    {
     "data": {
      "text/plain": [
       "WILL_ATTACH_IN_60        0\n",
       "PLAN_TIER                0\n",
       "BILLING_PLAN_ID          0\n",
       "CC_FEE                   0\n",
       "ASP                      0\n",
       "INDUSTRY                 0\n",
       "ORGSIZE                  0\n",
       "BANK_CONNECTED           0\n",
       "BANK_VERIFIED            0\n",
       "CREATED                  0\n",
       "SCHEDULED                0\n",
       "OMW                      0\n",
       "STARTED                  0\n",
       "IN_PROGRESS              0\n",
       "ESTIMATED                0\n",
       "INVOICED                 0\n",
       "TOTALPAYMENT_COUNT       0\n",
       "TOTALPAYMENT_AMOUNT      0\n",
       "ONLINE_BOOKINGS          0\n",
       "CC_COUNT                 0\n",
       "CC_AMOUNT                0\n",
       "INSTAPAY_AMOUNT          0\n",
       "ACH_COUNT                0\n",
       "CASH_COUNT               0\n",
       "CASH_AMOUNT              0\n",
       "CHECK_COUNT              0\n",
       "CHECK_AMOUNT             0\n",
       "OTHER_COUNT              0\n",
       "DAYS_SINCE_ENROLLMENT    0\n",
       "REASON_TO_ADOPT          0\n",
       "STAGENAME_PRODUCT        0\n",
       "CC_COUNT_ALL             0\n",
       "AVG_TIME_TO_PAYMENT      0\n",
       "COMMITMENTS_ALL          0\n",
       "COMMITMENTS              0\n",
       "CC_PERC                  0\n",
       "CASH_PERC                0\n",
       "CHECK_PERC               0\n",
       "OTHER_PERC               0\n",
       "ACH_PERC                 0\n",
       "combination              0\n",
       "dtype: int64"
      ]
     },
     "execution_count": 103,
     "metadata": {},
     "output_type": "execute_result"
    }
   ],
   "source": [
    "df.isna().sum()"
   ]
  },
  {
   "cell_type": "code",
   "execution_count": 104,
   "metadata": {},
   "outputs": [
    {
     "name": "stdout",
     "output_type": "stream",
     "text": [
      "(16000, 154) (4000, 154) (16000,) (4000,)\n"
     ]
    },
    {
     "name": "stderr",
     "output_type": "stream",
     "text": [
      "/anaconda3/lib/python3.7/site-packages/sklearn/preprocessing/data.py:625: DataConversionWarning: Data with input dtype uint8, float64 were all converted to float64 by StandardScaler.\n",
      "  return self.partial_fit(X, y)\n",
      "/anaconda3/lib/python3.7/site-packages/sklearn/utils/validation.py:595: DataConversionWarning: Data with input dtype int8 was converted to float64 by StandardScaler.\n",
      "  warnings.warn(msg, DataConversionWarning)\n",
      "/anaconda3/lib/python3.7/site-packages/ipykernel_launcher.py:14: DataConversionWarning: Data with input dtype uint8, float64 were all converted to float64 by StandardScaler.\n",
      "  \n",
      "/anaconda3/lib/python3.7/site-packages/sklearn/utils/validation.py:595: DataConversionWarning: Data with input dtype int8 was converted to float64 by StandardScaler.\n",
      "  warnings.warn(msg, DataConversionWarning)\n"
     ]
    }
   ],
   "source": [
    "y = df['combination']\n",
    "to_drop = ['combination']\n",
    "df = df.drop(to_drop, axis=1)\n",
    "X = pd.get_dummies(df)\n",
    "X_train, X_test, y_train, y_test = train_test_split(X, y, \n",
    "                                                    test_size=0.2, \n",
    "                                                    random_state=123)\n",
    "print(X_train.shape, X_test.shape, y_train.shape, y_test.shape)\n",
    "y_train= y_train.values.reshape(-1, 1)\n",
    "y_test= y_test.values.reshape(-1, 1)\n",
    "\n",
    "scaler_X = preprocessing.StandardScaler().fit(X_train)\n",
    "scaler_y = preprocessing.StandardScaler().fit(y_train)\n",
    "X_train_scaled = scaler_X.transform(X_train)\n",
    "y_train_scaled = scaler_y.transform(y_train)\n",
    "\n"
   ]
  },
  {
   "cell_type": "code",
   "execution_count": 107,
   "metadata": {},
   "outputs": [],
   "source": [
    "clf = RandomForestRegressor(n_estimators=100, max_depth=None, max_features='sqrt',\n",
    "                              random_state=0)\n",
    "\n",
    "clf = make_pipeline(preprocessing.StandardScaler(), \n",
    "                         clf)\n"
   ]
  },
  {
   "cell_type": "code",
   "execution_count": 108,
   "metadata": {},
   "outputs": [
    {
     "name": "stdout",
     "output_type": "stream",
     "text": [
      "int8 int8\n"
     ]
    },
    {
     "name": "stderr",
     "output_type": "stream",
     "text": [
      "/anaconda3/lib/python3.7/site-packages/sklearn/pipeline.py:267: DataConversionWarning: A column-vector y was passed when a 1d array was expected. Please change the shape of y to (n_samples,), for example using ravel().\n",
      "  self._final_estimator.fit(Xt, y, **fit_params)\n"
     ]
    },
    {
     "data": {
      "text/plain": [
       "Pipeline(memory=None,\n",
       "     steps=[('standardscaler', StandardScaler(copy=True, with_mean=True, with_std=True)), ('randomforestregressor', RandomForestRegressor(bootstrap=True, criterion='mse', max_depth=None,\n",
       "           max_features='sqrt', max_leaf_nodes=None,\n",
       "           min_impurity_decrease=0.0, min_impurity_split=None,\n",
       "           min_samples_leaf=1, min_samples_split=2,\n",
       "           min_weight_fraction_leaf=0.0, n_estimators=100, n_jobs=None,\n",
       "           oob_score=False, random_state=0, verbose=0, warm_start=False))])"
      ]
     },
     "execution_count": 108,
     "metadata": {},
     "output_type": "execute_result"
    }
   ],
   "source": [
    "print(y_train.dtype, y_test.dtype)\n",
    "clf.fit(X_train_scaled, y_train_scaled)\n"
   ]
  },
  {
   "cell_type": "code",
   "execution_count": 110,
   "metadata": {},
   "outputs": [
    {
     "name": "stdout",
     "output_type": "stream",
     "text": [
      "[-0.84974397 -0.87289184  0.77060718 ... -0.87289184 -0.87289184\n",
      "  0.28450183]\n"
     ]
    },
    {
     "name": "stderr",
     "output_type": "stream",
     "text": [
      "/anaconda3/lib/python3.7/site-packages/ipykernel_launcher.py:1: DataConversionWarning: Data with input dtype uint8, float64 were all converted to float64 by StandardScaler.\n",
      "  \"\"\"Entry point for launching an IPython kernel.\n",
      "/anaconda3/lib/python3.7/site-packages/sklearn/utils/validation.py:595: DataConversionWarning: Data with input dtype int8 was converted to float64 by StandardScaler.\n",
      "  warnings.warn(msg, DataConversionWarning)\n"
     ]
    }
   ],
   "source": [
    "X_test_scaled = scaler_X.transform(X_test)\n",
    "y_test_scaled = scaler_y.transform(y_test)\n",
    "pred = clf.predict(X_test_scaled)\n",
    "\n",
    "print(pred)"
   ]
  },
  {
   "cell_type": "code",
   "execution_count": 111,
   "metadata": {},
   "outputs": [
    {
     "data": {
      "text/plain": [
       "0.9571598920235654"
      ]
     },
     "execution_count": 111,
     "metadata": {},
     "output_type": "execute_result"
    }
   ],
   "source": [
    "r2_score(y_test_scaled, pred)\n"
   ]
  },
  {
   "cell_type": "code",
   "execution_count": null,
   "metadata": {},
   "outputs": [],
   "source": []
  }
 ],
 "metadata": {
  "kernelspec": {
   "display_name": "Python 3",
   "language": "python",
   "name": "python3"
  },
  "language_info": {
   "codemirror_mode": {
    "name": "ipython",
    "version": 3
   },
   "file_extension": ".py",
   "mimetype": "text/x-python",
   "name": "python",
   "nbconvert_exporter": "python",
   "pygments_lexer": "ipython3",
   "version": "3.7.1"
  }
 },
 "nbformat": 4,
 "nbformat_minor": 2
}
