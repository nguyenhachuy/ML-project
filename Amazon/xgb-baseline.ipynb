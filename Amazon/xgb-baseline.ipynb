{
 "cells": [
  {
   "cell_type": "code",
   "execution_count": 1,
   "metadata": {},
   "outputs": [],
   "source": [
    "import xgboost as xgb\n",
    "import pandas as pd\n",
    "from sklearn.model_selection import train_test_split"
   ]
  },
  {
   "cell_type": "code",
   "execution_count": 2,
   "metadata": {},
   "outputs": [],
   "source": [
    "test = pd.read_csv('../Feature-eng/test.csv', index_col=None)\n",
    "X_test, y_test = test.iloc[:, 1:], test.iloc[:, 0]\n",
    "\n",
    "feature_names = X_test.columns\n",
    "feature_types = X_test.dtypes"
   ]
  },
  {
   "cell_type": "code",
   "execution_count": 3,
   "metadata": {},
   "outputs": [],
   "source": [
    "# mult = pd.read_csv('../Feature-eng/train-new.csv', index_col=False)\n",
    "# X, y = mult.iloc[:, 1:], mult.iloc[:, 0]\n",
    "# X_train, X_test, y_train, y_test = train_test_split(X, y, \n",
    "#                                                     test_size=0.2, \n",
    "#                                                     random_state=123,\n",
    "#                                                     stratify=y)\n"
   ]
  },
  {
   "cell_type": "code",
   "execution_count": null,
   "metadata": {},
   "outputs": [],
   "source": []
  },
  {
   "cell_type": "code",
   "execution_count": 4,
   "metadata": {},
   "outputs": [],
   "source": [
    "# dtrain = xgb.DMatrix(data=X_train.values, label=y_train.values)\n",
    "# dtest = xgb.DMatrix(data=X_test.values, label=y_test.values)\n"
   ]
  },
  {
   "cell_type": "code",
   "execution_count": 5,
   "metadata": {},
   "outputs": [
    {
     "name": "stdout",
     "output_type": "stream",
     "text": [
      "[16:12:53] 964501x169 matrix with 163000669 entries loaded from ../Feature-eng/train.csv?format=csv&label_column=0\n",
      "169\n"
     ]
    }
   ],
   "source": [
    "# read in data\n",
    "dtrain = xgb.DMatrix('../Feature-eng/train.csv?format=csv&label_column=0')\n",
    "# dtest = xgb.DMatrix(data=X_test.values, label=y_test.values)\n",
    "dtest = xgb.DMatrix(data=X_test.values, label=y_test.values)\n",
    "# specify parameters via map\n",
    "# make prediction\n",
    "print(dtrain.num_col())"
   ]
  },
  {
   "cell_type": "code",
   "execution_count": 6,
   "metadata": {},
   "outputs": [],
   "source": [
    "param = {'max_depth': 10, 'eta': 0.3, 'silent': 1, 'objective': 'binary:logistic', \n",
    "         'min_child_weight': 3.781067239275553, 'colsample_bytree': 0.9149522148929845, \n",
    "         'gamma': 1.4399646786455722, 'subsample': 0.9171271673354395\n",
    "        }\n",
    "\n",
    "param['eval_metric'] = ['auc', 'aucpr', 'error', 'logloss']\n",
    "evallist = [(dtrain, 'train'), (dtest, 'eval')]\n"
   ]
  },
  {
   "cell_type": "code",
   "execution_count": 7,
   "metadata": {},
   "outputs": [],
   "source": [
    "# param = {'max_depth': 6, 'eta': 0.3, 'silent': 1, 'objective': 'multi:softmax', 'subsample': 0.8, 'num_class': 4}\n",
    "\n",
    "# param['eval_metric'] = ['merror', 'mlogloss']\n",
    "# evallist = [(dtrain, 'train'), (dtest, 'eval')]"
   ]
  },
  {
   "cell_type": "code",
   "execution_count": 8,
   "metadata": {},
   "outputs": [
    {
     "name": "stdout",
     "output_type": "stream",
     "text": [
      "[0]\ttrain-auc:0.97676\ttrain-aucpr:0.980923\ttrain-error:0.066198\ttrain-logloss:0.490451\teval-auc:0.9493\teval-aucpr:0.956198\teval-error:0.108431\teval-logloss:0.516989\n",
      "Multiple eval metrics have been passed: 'eval-logloss' will be used for early stopping.\n",
      "\n",
      "Will train until eval-logloss hasn't improved in 3 rounds.\n",
      "[1]\ttrain-auc:0.978886\ttrain-aucpr:0.983019\ttrain-error:0.063118\ttrain-logloss:0.381009\teval-auc:0.950447\teval-aucpr:0.948205\teval-error:0.10907\teval-logloss:0.423322\n",
      "[2]\ttrain-auc:0.980673\ttrain-aucpr:0.984629\ttrain-error:0.061735\ttrain-logloss:0.309905\teval-auc:0.952105\teval-aucpr:0.956937\teval-error:0.107046\teval-logloss:0.368818\n",
      "[3]\ttrain-auc:0.981808\ttrain-aucpr:0.985601\ttrain-error:0.060441\ttrain-logloss:0.263659\teval-auc:0.952854\teval-aucpr:0.959827\teval-error:0.10766\teval-logloss:0.334417\n",
      "[4]\ttrain-auc:0.982525\ttrain-aucpr:0.986128\ttrain-error:0.059607\ttrain-logloss:0.233092\teval-auc:0.952781\teval-aucpr:0.960082\teval-error:0.1079\teval-logloss:0.313611\n",
      "[5]\ttrain-auc:0.983824\ttrain-aucpr:0.987333\ttrain-error:0.058009\ttrain-logloss:0.208652\teval-auc:0.950509\teval-aucpr:0.959068\teval-error:0.108655\teval-logloss:0.303852\n",
      "[6]\ttrain-auc:0.984535\ttrain-aucpr:0.987868\ttrain-error:0.057306\ttrain-logloss:0.191639\teval-auc:0.951535\teval-aucpr:0.959462\teval-error:0.107278\teval-logloss:0.293443\n",
      "[7]\ttrain-auc:0.98522\ttrain-aucpr:0.988411\ttrain-error:0.056808\ttrain-logloss:0.178643\teval-auc:0.952018\teval-aucpr:0.959669\teval-error:0.107892\teval-logloss:0.287458\n",
      "[8]\ttrain-auc:0.98583\ttrain-aucpr:0.98892\ttrain-error:0.055784\ttrain-logloss:0.168284\teval-auc:0.951865\teval-aucpr:0.959597\teval-error:0.107477\teval-logloss:0.284186\n",
      "[9]\ttrain-auc:0.98653\ttrain-aucpr:0.98947\ttrain-error:0.054276\ttrain-logloss:0.159836\teval-auc:0.952044\teval-aucpr:0.959619\teval-error:0.107486\teval-logloss:0.282123\n",
      "[10]\ttrain-auc:0.987251\ttrain-aucpr:0.990075\ttrain-error:0.053405\ttrain-logloss:0.15321\teval-auc:0.951762\teval-aucpr:0.959467\teval-error:0.10805\teval-logloss:0.282219\n",
      "[11]\ttrain-auc:0.987633\ttrain-aucpr:0.99039\ttrain-error:0.052633\ttrain-logloss:0.148644\teval-auc:0.952497\teval-aucpr:0.959789\teval-error:0.107146\teval-logloss:0.280516\n",
      "[12]\ttrain-auc:0.988471\ttrain-aucpr:0.991081\ttrain-error:0.051314\ttrain-logloss:0.142956\teval-auc:0.952005\teval-aucpr:0.959553\teval-error:0.107652\teval-logloss:0.281311\n",
      "[13]\ttrain-auc:0.988784\ttrain-aucpr:0.991315\ttrain-error:0.05086\ttrain-logloss:0.139703\teval-auc:0.952244\teval-aucpr:0.959642\teval-error:0.108232\teval-logloss:0.281274\n",
      "[14]\ttrain-auc:0.98903\ttrain-aucpr:0.991501\ttrain-error:0.050228\ttrain-logloss:0.137142\teval-auc:0.95211\teval-aucpr:0.95954\teval-error:0.108241\teval-logloss:0.28145\n",
      "Stopping. Best iteration:\n",
      "[11]\ttrain-auc:0.987633\ttrain-aucpr:0.99039\ttrain-error:0.052633\ttrain-logloss:0.148644\teval-auc:0.952497\teval-aucpr:0.959789\teval-error:0.107146\teval-logloss:0.280516\n",
      "\n"
     ]
    }
   ],
   "source": [
    "num_round = 100\n",
    "bst = xgb.train(param, dtrain, num_round, evallist, early_stopping_rounds=3)\n"
   ]
  },
  {
   "cell_type": "code",
   "execution_count": 9,
   "metadata": {},
   "outputs": [],
   "source": [
    "preds = bst.predict(dtest)\n",
    "labels = dtest.get_label()\n",
    "y_pred = (preds > 0.5).astype(int)\n",
    "# print(labels[0:10])"
   ]
  },
  {
   "cell_type": "code",
   "execution_count": 19,
   "metadata": {},
   "outputs": [
    {
     "name": "stdout",
     "output_type": "stream",
     "text": [
      "              precision    recall  f1-score   support\n",
      "\n",
      "         0.0       0.85      0.95      0.90     59868\n",
      "         1.0       0.95      0.83      0.89     60669\n",
      "\n",
      "   micro avg       0.89      0.89      0.89    120537\n",
      "   macro avg       0.90      0.89      0.89    120537\n",
      "weighted avg       0.90      0.89      0.89    120537\n",
      "\n",
      "Accuracy 0.8917593767888699\n"
     ]
    }
   ],
   "source": [
    "from sklearn.metrics import log_loss\n",
    "from sklearn.metrics import classification_report\n",
    "from sklearn.metrics import accuracy_score\n",
    "\n",
    "print(classification_report(labels, y_pred))\n",
    "print('Accuracy {}'.format(accuracy_score(labels, y_pred)))"
   ]
  },
  {
   "cell_type": "code",
   "execution_count": 11,
   "metadata": {},
   "outputs": [],
   "source": [
    "# from sklearn.metrics import log_loss\n",
    "# from sklearn.metrics import classification_report\n",
    "# print(classification_report(labels, preds))"
   ]
  },
  {
   "cell_type": "code",
   "execution_count": 20,
   "metadata": {},
   "outputs": [
    {
     "name": "stdout",
     "output_type": "stream",
     "text": [
      "0.2814141846764489\n"
     ]
    }
   ],
   "source": [
    "print(log_loss(labels.astype('float64'), preds.astype('float64'), normalize=True, eps=1e-15))"
   ]
  },
  {
   "cell_type": "code",
   "execution_count": 13,
   "metadata": {},
   "outputs": [],
   "source": [
    "# import matplotlib.pyplot as plt\n",
    "# fig = plt.figure(figsize=(100,100))\n",
    "# axes = fig.add_axes(rect=[1,1,1,1])\n",
    "# xgb.plot_importance(bst, axes)"
   ]
  },
  {
   "cell_type": "code",
   "execution_count": 14,
   "metadata": {},
   "outputs": [],
   "source": [
    "# print(log_loss(labels, bst.predict(dtest), normalize=True))"
   ]
  },
  {
   "cell_type": "code",
   "execution_count": 15,
   "metadata": {},
   "outputs": [],
   "source": [
    "# bst.dump_model('xgb-baseline.txt')"
   ]
  },
  {
   "cell_type": "code",
   "execution_count": 16,
   "metadata": {},
   "outputs": [
    {
     "name": "stdout",
     "output_type": "stream",
     "text": [
      "[('f39', 1), ('f168', 1), ('f61', 1), ('f127', 1), ('f113', 1), ('f54', 1), ('f87', 2), ('f37', 2), ('f80', 2), ('f108', 2), ('f117', 2), ('f26', 2), ('f88', 3), ('f19', 3), ('f123', 3), ('f81', 3), ('f72', 3), ('f35', 3), ('f52', 3), ('f126', 3), ('f155', 3), ('f141', 3), ('f86', 4), ('f148', 4), ('f79', 4), ('f58', 5), ('f91', 6), ('f102', 6), ('f30', 6), ('f59', 6), ('f125', 7), ('f112', 7), ('f82', 7), ('f49', 8), ('f119', 9), ('f128', 9), ('f134', 9), ('f42', 10), ('f83', 10), ('f38', 11), ('f104', 11), ('f47', 11), ('f92', 11), ('f110', 13), ('f100', 14), ('f70', 14), ('f63', 14), ('f111', 15), ('f132', 16), ('f46', 16), ('f115', 16), ('f120', 17), ('f71', 17), ('f130', 18), ('f84', 18), ('f44', 18), ('f69', 19), ('f68', 20), ('f18', 21), ('f109', 26), ('f103', 26), ('f51', 26), ('f36', 27), ('f62', 27), ('f129', 28), ('f98', 30), ('f29', 32), ('f75', 33), ('f85', 33), ('f77', 37), ('f5', 44), ('f78', 44), ('f16', 46), ('f20', 48), ('f31', 52), ('f24', 61), ('f15', 69), ('f10', 76), ('f22', 78), ('f34', 82), ('f32', 82), ('f13', 83), ('f11', 86), ('f9', 87), ('f33', 96), ('f21', 100), ('f0', 104), ('f8', 121), ('f12', 126), ('f23', 126), ('f7', 130), ('f17', 167), ('f14', 167), ('f3', 187), ('f6', 224), ('f2', 236), ('f27', 292), ('f25', 408), ('f28', 483)]\n"
     ]
    }
   ],
   "source": [
    "sorted_x = sorted(bst.get_fscore().items(), key=lambda kv: kv[1])\n",
    "print(sorted_x)"
   ]
  },
  {
   "cell_type": "code",
   "execution_count": 18,
   "metadata": {},
   "outputs": [
    {
     "name": "stdout",
     "output_type": "stream",
     "text": [
      "AVG_TIME_TO_PAYMENT\n",
      "BILLING_PLAN_ID\n",
      "CREATED\n",
      "SCHEDULED\n",
      "TOTALPAYMENT_COUNT\n",
      "CC_AMOUNT\n"
     ]
    }
   ],
   "source": [
    "print(feature_names[28])\n",
    "print(feature_names[0])\n",
    "print(feature_names[6])\n",
    "print(feature_names[7])\n",
    "print(feature_names[13])\n",
    "print(feature_names[17])"
   ]
  },
  {
   "cell_type": "code",
   "execution_count": null,
   "metadata": {},
   "outputs": [],
   "source": []
  }
 ],
 "metadata": {
  "kernelspec": {
   "display_name": "Python 3",
   "language": "python",
   "name": "python3"
  },
  "language_info": {
   "codemirror_mode": {
    "name": "ipython",
    "version": 3
   },
   "file_extension": ".py",
   "mimetype": "text/x-python",
   "name": "python",
   "nbconvert_exporter": "python",
   "pygments_lexer": "ipython3",
   "version": "3.7.1"
  }
 },
 "nbformat": 4,
 "nbformat_minor": 2
}
