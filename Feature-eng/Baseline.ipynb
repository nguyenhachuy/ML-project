{
 "cells": [
  {
   "cell_type": "code",
   "execution_count": 1,
   "metadata": {},
   "outputs": [],
   "source": [
    "import numpy as np                                \n",
    "import pandas as pd                               \n",
    "import matplotlib.pyplot as plt                   \n",
    "from IPython.display import Image                 \n",
    "from IPython.display import display               \n",
    "from time import gmtime, strftime                 \n",
    "# from sagemaker.predictor import csv_serializer   \n",
    "\n",
    "import pandas as pd\n",
    "import numpy as np\n",
    "from pandas.api.types import CategoricalDtype    \n",
    " \n",
    "from sklearn.model_selection import train_test_split\n",
    "from sklearn import preprocessing\n",
    "from sklearn.ensemble import RandomForestClassifier\n",
    "from sklearn.pipeline import make_pipeline\n",
    "from sklearn.model_selection import GridSearchCV\n",
    "from sklearn.metrics import mean_squared_error, r2_score\n",
    "from sklearn.externals import joblib \n",
    "from sklearn.ensemble import GradientBoostingClassifier\n",
    "import collections\n",
    "from sklearn.preprocessing import StandardScaler\n",
    "from joblib import dump, load"
   ]
  },
  {
   "cell_type": "code",
   "execution_count": 2,
   "metadata": {},
   "outputs": [],
   "source": [
    "train = pd.read_csv('./train.csv',index_col=None)\n",
    "# train_new = pd.read_csv('./train-new.csv',index_col=None)\n",
    "test = pd.read_csv('./test.csv',index_col=None)\n",
    "# test_new = pd.read_csv('./test-new.csv',index_col=None)\n"
   ]
  },
  {
   "cell_type": "code",
   "execution_count": 3,
   "metadata": {},
   "outputs": [],
   "source": [
    "clf = RandomForestClassifier(n_estimators=100, max_depth=20, max_features='sqrt', n_jobs = -1, oob_score = True,\n",
    "                              random_state=0, min_samples_leaf=10)\n",
    "# clf_new = RandomForestClassifier(n_estimators=100, max_depth=20, max_features='sqrt', n_jobs = -1, oob_score = True,\n",
    "#                               random_state=0, min_samples_leaf=10, class_weight='balanced_subsample')\n",
    "\n",
    "# clf = RandomForestClassifier(n_estimators=200,max_depth=20)\n",
    "# clf_new = RandomForestClassifier(n_estimators=200)\n",
    "\n"
   ]
  },
  {
   "cell_type": "code",
   "execution_count": 4,
   "metadata": {},
   "outputs": [],
   "source": [
    "X, y = train.iloc[:, 1:], train.iloc[:, 0]\n",
    "# X_new, y_new = train_new.iloc[:, 1:], train_new.iloc[:, 0]"
   ]
  },
  {
   "cell_type": "code",
   "execution_count": 5,
   "metadata": {},
   "outputs": [
    {
     "name": "stdout",
     "output_type": "stream",
     "text": [
      "(771600, 169) (192900, 169) (771600,) (192900,)\n"
     ]
    }
   ],
   "source": [
    "X_train, X_test, y_train, y_test = train_test_split(X, y, \n",
    "                                                    test_size=0.2, \n",
    "                                                    random_state=123,\n",
    "                                                    stratify=y)\n",
    "print(X_train.shape, X_test.shape, y_train.shape, y_test.shape)\n",
    "# X_train_new, X_test_new, y_train_new, y_test_new = train_test_split(X_new, y_new, \n",
    "#                                                     test_size=0.2, \n",
    "#                                                     random_state=123,\n",
    "#                                                     stratify=y)\n",
    "# print(X_train_new.shape, X_test_new.shape, y_train_new.shape, y_test_new.shape)\n"
   ]
  },
  {
   "cell_type": "code",
   "execution_count": 6,
   "metadata": {},
   "outputs": [
    {
     "name": "stderr",
     "output_type": "stream",
     "text": [
      "/anaconda3/lib/python3.7/site-packages/sklearn/preprocessing/data.py:625: DataConversionWarning: Data with input dtype int64, float64 were all converted to float64 by StandardScaler.\n",
      "  return self.partial_fit(X, y)\n",
      "/anaconda3/lib/python3.7/site-packages/sklearn/base.py:462: DataConversionWarning: Data with input dtype int64, float64 were all converted to float64 by StandardScaler.\n",
      "  return self.fit(X, **fit_params).transform(X)\n",
      "/anaconda3/lib/python3.7/site-packages/ipykernel_launcher.py:4: DataConversionWarning: Data with input dtype int64, float64 were all converted to float64 by StandardScaler.\n",
      "  after removing the cwd from sys.path.\n"
     ]
    }
   ],
   "source": [
    "scaler = StandardScaler()\n",
    "\n",
    "X_train = scaler.fit_transform(X_train)\n",
    "X_test = scaler.transform(X_test)\n",
    "# X_train_new = scaler.fit_transform(X_train_new)\n",
    "# X_test_new = scaler.transform(X_test_new)\n"
   ]
  },
  {
   "cell_type": "code",
   "execution_count": 7,
   "metadata": {},
   "outputs": [
    {
     "name": "stdout",
     "output_type": "stream",
     "text": [
      "(964500, 169) (120537, 169) (964500,) (120537,)\n"
     ]
    }
   ],
   "source": [
    "y_train = train['WILL_ATTACH_IN_60']\n",
    "X_train = train.drop('WILL_ATTACH_IN_60', axis=1)\n",
    "y_test = test['WILL_ATTACH_IN_60']\n",
    "X_test = test.drop('WILL_ATTACH_IN_60', axis=1)\n",
    "\n",
    "print(X_train.shape, X_test.shape, y_train.shape, y_test.shape)"
   ]
  },
  {
   "cell_type": "code",
   "execution_count": 8,
   "metadata": {},
   "outputs": [],
   "source": [
    "# y_train_new = train_new['WILL_ATTACH_IN_60']\n",
    "# X_train_new = train_new.drop('WILL_ATTACH_IN_60', axis=1)\n",
    "# y_test_new = test_new['WILL_ATTACH_IN_60']\n",
    "# X_test_new = test_new.drop('WILL_ATTACH_IN_60', axis=1)\n",
    "\n",
    "# print(X_train_new.shape, X_test_new.shape, y_train_new.shape, y_test_new.shape)"
   ]
  },
  {
   "cell_type": "code",
   "execution_count": 9,
   "metadata": {},
   "outputs": [
    {
     "name": "stdout",
     "output_type": "stream",
     "text": [
      "[3.04067842e-03 1.41040848e-04 7.41657038e-03 4.64294438e-03\n",
      " 9.44535029e-06 4.75613658e-02 2.71911271e-02 1.43942531e-02\n",
      " 1.23737341e-02 8.65347206e-03 1.03356762e-02 5.76422633e-03\n",
      " 5.51659194e-02 5.61158855e-02 4.42862595e-02 2.54886939e-03\n",
      " 1.13869210e-01 1.01938356e-01 5.67938915e-03 1.61790592e-04\n",
      " 1.10355681e-02 7.93461821e-03 2.25561892e-02 1.24784841e-02\n",
      " 6.40703855e-03 8.66961599e-03 1.63675167e-04 1.57857884e-01\n",
      " 3.76761017e-02 3.55651987e-03 6.51107830e-04 1.26848797e-01\n",
      " 1.18940876e-02 3.69672445e-02 1.12545937e-02 2.28252165e-04\n",
      " 1.29402830e-03 6.51521662e-04 1.90103741e-03 1.39989421e-04\n",
      " 5.52438343e-06 2.68900532e-08 2.41934234e-04 3.04592413e-06\n",
      " 4.98106880e-04 5.24609033e-08 3.18671206e-04 4.45366505e-04\n",
      " 0.00000000e+00 2.06832412e-04 1.94636381e-05 1.06535160e-03\n",
      " 6.70324873e-05 1.92698137e-07 1.08911567e-04 2.87855306e-06\n",
      " 0.00000000e+00 7.27764344e-05 9.20140620e-05 4.87585617e-05\n",
      " 5.24528711e-06 9.95691281e-05 7.36470414e-04 2.04643715e-04\n",
      " 0.00000000e+00 8.10721895e-05 2.68185881e-06 1.40267400e-05\n",
      " 4.20405463e-04 3.03816726e-04 3.87462567e-04 6.45333864e-04\n",
      " 8.56091532e-05 7.05069374e-07 1.73836866e-05 7.97342189e-04\n",
      " 2.56728712e-07 1.32206087e-03 1.09895262e-03 1.77894199e-04\n",
      " 1.15895270e-04 3.31890356e-05 8.22913522e-05 2.39723248e-04\n",
      " 2.24603618e-04 6.02171454e-04 5.89899705e-05 7.50982097e-05\n",
      " 1.64998322e-04 2.75538187e-05 0.00000000e+00 9.27674422e-05\n",
      " 2.99575305e-04 4.32978931e-07 1.16671809e-07 2.04739285e-08\n",
      " 1.18793955e-09 2.36072267e-06 5.66218092e-04 6.68181999e-05\n",
      " 3.95030334e-04 4.06272156e-05 8.63794142e-05 8.39431939e-04\n",
      " 2.60612877e-04 1.35433377e-05 2.27599984e-06 7.44895014e-06\n",
      " 4.61472434e-05 4.87127321e-04 1.64660513e-04 1.69116910e-04\n",
      " 2.15740083e-04 4.16374211e-05 2.69206807e-06 2.89533700e-04\n",
      " 1.36101656e-05 1.26446101e-04 9.92636084e-09 1.29928555e-04\n",
      " 1.97917713e-04 4.93237798e-06 5.91559176e-06 7.44178063e-05\n",
      " 9.09253558e-07 2.07231157e-04 1.41536031e-04 3.09994706e-05\n",
      " 5.16800619e-05 8.56483211e-04 2.84527314e-04 1.26021464e-07\n",
      " 1.56173247e-04 6.01580621e-07 4.32875973e-04 0.00000000e+00\n",
      " 0.00000000e+00 2.42352588e-06 2.94529017e-05 9.80060639e-07\n",
      " 4.70095122e-11 2.95583494e-05 0.00000000e+00 0.00000000e+00\n",
      " 0.00000000e+00 0.00000000e+00 3.20282999e-10 0.00000000e+00\n",
      " 1.37069345e-04 0.00000000e+00 7.77577567e-08 1.39925817e-06\n",
      " 0.00000000e+00 0.00000000e+00 0.00000000e+00 3.09615289e-05\n",
      " 2.34591256e-06 6.35460155e-12 2.08721482e-09 0.00000000e+00\n",
      " 1.02906134e-08 0.00000000e+00 5.34248210e-08 0.00000000e+00\n",
      " 0.00000000e+00 8.83446452e-06 2.51652349e-06 0.00000000e+00\n",
      " 2.68720376e-04]\n",
      "0.8896106589677858\n"
     ]
    }
   ],
   "source": [
    "clf.fit(X_train, y_train)\n",
    "print(clf.feature_importances_)\n",
    "print(clf.score(X_test,y_test))\n"
   ]
  },
  {
   "cell_type": "code",
   "execution_count": 10,
   "metadata": {},
   "outputs": [],
   "source": [
    "# clf_new.fit(X_train_new, y_train_new)\n",
    "# print(clf_new.feature_importances_)\n",
    "# print(clf_new.score(X_test_new,y_test_new))\n"
   ]
  },
  {
   "cell_type": "code",
   "execution_count": 11,
   "metadata": {},
   "outputs": [],
   "source": [
    "feat = collections.OrderedDict(zip(X.columns, clf.feature_importances_))\n",
    "# feat_new = collections.OrderedDict(zip(X_new.columns, clf_new.feature_importances_))\n",
    "sorted_feat = sorted(feat.items(), key=lambda x: x[1], reverse=True)\n",
    "# sorted_feat_new = sorted(feat_new.items(), key=lambda x: x[1], reverse=True)\n",
    "\n"
   ]
  },
  {
   "cell_type": "code",
   "execution_count": 12,
   "metadata": {},
   "outputs": [
    {
     "name": "stdout",
     "output_type": "stream",
     "text": [
      "[('CC_COUNT_ALL', 0.15785788380895135), ('CC_PERC', 0.12684879734655935), ('CC_COUNT', 0.11386921036335153), ('CC_AMOUNT', 0.10193835594431552), ('TOTALPAYMENT_COUNT', 0.05611588545277769), ('INVOICED', 0.055165919430861216), ('BANK_VERIFIED', 0.047561365834904154), ('TOTALPAYMENT_AMOUNT', 0.0442862595079344), ('AVG_TIME_TO_PAYMENT', 0.03767610165408384), ('CHECK_PERC', 0.03696724454632687), ('CREATED', 0.02719112707221351), ('CHECK_COUNT', 0.02255618922357695), ('SCHEDULED', 0.014394253126540928), ('CHECK_AMOUNT', 0.012478484053315263), ('OMW', 0.012373734107403696), ('CASH_PERC', 0.01189408762984882), ('OTHER_PERC', 0.011254593713967729), ('CASH_COUNT', 0.011035568124745604), ('IN_PROGRESS', 0.010335676183001654), ('DAYS_SINCE_ENROLLMENT', 0.008669615986796587), ('STARTED', 0.008653472057370725), ('CASH_AMOUNT', 0.007934618210100984), ('ASP', 0.007416570381481449), ('OTHER_COUNT', 0.006407038548442937), ('ESTIMATED', 0.005764226329122106), ('INSTAPAY_AMOUNT', 0.005679389146218766), ('ORGSIZE', 0.004642944381186246), ('COMMITMENTS_ALL', 0.0035565198746824456), ('BILLING_PLAN_ID', 0.003040678424421707), ('ONLINE_BOOKINGS', 0.0025488693936338356), ('PLAN_TIER_starter', 0.0019010374051448714), ('INDUSTRY_Heating & Air Conditioning', 0.001322060867688113), ('PLAN_TIER_small', 0.0012940283035764917), ('INDUSTRY_Home Cleaning', 0.0010989526163824926), ('INDUSTRY_Carpet Cleaning', 0.0010653515988475215), ('INDUSTRY_Window & Exterior Cleaning', 0.000856483211437895), ('INDUSTRY_Plumbing', 0.000839431938863219), ('INDUSTRY_Handyman', 0.0007973421888614999), ('INDUSTRY_Electrical', 0.0007364704142649686), ('PLAN_TIER_medium', 0.0006515216616446055), ('COMMITMENTS', 0.0006511078298953703), ('INDUSTRY_General Contractor', 0.0006453338643271773), ('INDUSTRY_Landscaping & Lawn', 0.0006021714539630075), ('INDUSTRY_Painting', 0.0005662180921731813), ('INDUSTRY_Appliances', 0.0004981068801077454), ('INDUSTRY_Restoration', 0.00048712732107839907), ('INDUSTRY_Automotive', 0.00044536650511280986), ('STAGENAME_PRODUCT_Closed Lost_CC Attach:', 0.0004328759734723548), ('INDUSTRY_Flooring', 0.00042040546285313304), ('INDUSTRY_Pest Control', 0.00039503033400170454), ('INDUSTRY_Garage', 0.0003874625665728725), ('INDUSTRY_Audio & TV', 0.000318671206087984), ('INDUSTRY_Furniture & Upholstery', 0.0003038167256772157), ('INDUSTRY_Moving', 0.0002995753050857168), ('INDUSTRY_Smart Home', 0.0002895337002394343), ('INDUSTRY_Windows', 0.00028452731440493196), ('STAGENAME_PRODUCT_not called', 0.00026872037614336067), ('INDUSTRY_Pool & Spa', 0.00026061287665468213), ('INDUSTRY_Air Duct Cleaning', 0.00024193423407135753), ('INDUSTRY_Janitorial', 0.0002397232481766728), ('ACH_PERC', 0.00022825216479808053), ('INDUSTRY_Junk Removal', 0.00022460361759032047), ('INDUSTRY_Security', 0.00021574008305633147), ('INDUSTRY_Water Heater', 0.00020723115746590012), ('INDUSTRY_Business Services', 0.0002068324120025163), ('INDUSTRY_Fencing', 0.0002046437154077051), ('INDUSTRY_Tile & Grout', 0.00019791771295570105), ('INDUSTRY_Home Inspection', 0.00017789419917929014), ('INDUSTRY_Rug Cleaning', 0.00016911690994256414), ('INDUSTRY_Locksmith', 0.0001649983216928812), ('INDUSTRY_Roof & Attic', 0.00016466051269183187), ('REASON_TO_ADOPT', 0.00016367516652408327), ('ACH_COUNT', 0.0001617905921769774), ('INDUSTRY_missing', 0.0001561732471877199), ('INDUSTRY_Water Treatment', 0.0001415360310814429), ('CC_FEE', 0.00014104084805959753), ('PLAN_TIER_tiny', 0.0001399894212156655), ('STAGENAME_PRODUCT_Committed_CC Attach:', 0.00013706934490617583), ('INDUSTRY_Tech Help', 0.00012992855451200618), ('INDUSTRY_Solar & Energy', 0.0001264461012534389), ('INDUSTRY_Install & Assemble', 0.00011589527039424164), ('INDUSTRY_Concrete & Asphalt', 0.0001089115668487053), ('INDUSTRY_Drywall', 9.956912810298176e-05), ('INDUSTRY_Medical', 9.276744222426737e-05), ('INDUSTRY_Demolition', 9.201406195047501e-05), ('INDUSTRY_Photography', 8.637941418142109e-05), ('INDUSTRY_Glass', 8.560915321193244e-05), ('INDUSTRY_Interior & Surface Cleaning', 8.229135216941929e-05), ('INDUSTRY_Fireplace & Chimney', 8.107218947626625e-05), ('INDUSTRY_Lighting', 7.509820969331274e-05), ('INDUSTRY_Tree Services', 7.441780630927047e-05), ('INDUSTRY_Deck & Patio', 7.277643437368074e-05), ('INDUSTRY_Carpet Repair', 6.703248733319676e-05), ('INDUSTRY_Parties', 6.681819986497277e-05), ('INDUSTRY_Laundry', 5.898997046796867e-05), ('INDUSTRY_Wildlife Control', 5.168006187689858e-05), ('INDUSTRY_Device Repair', 4.875856166497336e-05), ('INDUSTRY_Regulatory & Environmental', 4.6147243364388094e-05), ('INDUSTRY_Sewer & Septic', 4.16374210989932e-05), ('INDUSTRY_Pets', 4.0627215631164856e-05), ('INDUSTRY_Insurance', 3.318903557885416e-05), ('INDUSTRY_Well Pumps', 3.099947062604011e-05), ('STAGENAME_PRODUCT_Committed_Instapay Attach:', 3.0961528862730604e-05), ('STAGENAME_PRODUCT_Closed Lost_Instapay Attach:', 2.9558349363910974e-05), ('STAGENAME_PRODUCT_Closed Lost_CC Usage:', 2.945290168692328e-05), ('INDUSTRY_Marine Services', 2.755381865622229e-05), ('INDUSTRY_Cabinetry', 1.9463638067814395e-05), ('INDUSTRY_Gutters', 1.7383686624682214e-05), ('INDUSTRY_Fleets & Trucks', 1.4026739988661253e-05), ('INDUSTRY_Snow Removal', 1.3610165587810189e-05), ('INDUSTRY_Property Manager', 1.354333768562846e-05), ('BANK_CONNECTED', 9.44535029014482e-06), ('STAGENAME_PRODUCT_Working_CC Attach:', 8.834464520974892e-06), ('INDUSTRY_Refrigeration', 7.448950135151173e-06), ('INDUSTRY_Transportation', 5.9155917621546e-06), ('PLAN_TIER_trial', 5.52438342715722e-06), ('INDUSTRY_Doors', 5.245287107193261e-06), ('INDUSTRY_Title', 4.932377982185292e-06), ('INDUSTRY_Alternative Therapy', 3.045924128409363e-06), ('INDUSTRY_Cooking', 2.87855305848361e-06), ('INDUSTRY_Siding', 2.6920680721368956e-06), ('INDUSTRY_Fitness', 2.6818588111192973e-06), ('STAGENAME_PRODUCT_Working_CC Usage: CC Attach:', 2.516523491809322e-06), ('STAGENAME_PRODUCT_Closed Lost_CC Attach: Instapay Attach:', 2.423525878160672e-06), ('INDUSTRY_Organization & Interior Design', 2.3607226738131644e-06), ('STAGENAME_PRODUCT_Contacted - No Response_CC Usage:', 2.3459125583183877e-06), ('INDUSTRY_Real Estate', 2.275999836429389e-06), ('STAGENAME_PRODUCT_Committed_CC Usage:', 1.3992581654103392e-06), ('STAGENAME_PRODUCT_Closed Lost_CC Usage: CC Attach:', 9.80060639363233e-07), ('INDUSTRY_Tutoring', 9.092535583880837e-07), ('INDUSTRY_Graphics & Printing', 7.050693741394532e-07), ('STAGENAME_PRODUCT_Closed Lost_ACH Attach:', 6.015806206615309e-07), ('INDUSTRY_Music & Singing', 4.329789306258462e-07), ('INDUSTRY_Health & Beauty', 2.5672871237228663e-07), ('INDUSTRY_Christmas Lights', 1.9269813690564923e-07), ('INDUSTRY_Wine', 1.2602146380925088e-07), ('INDUSTRY_Natural Stone', 1.1667180931867282e-07), ('STAGENAME_PRODUCT_Committed_CC Attach: Instapay Attach:', 7.775775671416293e-08), ('STAGENAME_PRODUCT_Statements Requested_CC Attach:', 5.342482102844595e-08), ('INDUSTRY_Appraisal', 5.246090334193015e-08), ('INDUSTRY_Accountant', 2.6890053200936866e-08), ('INDUSTRY_Neighborhood Chores', 2.047392848600396e-08), ('STAGENAME_PRODUCT_New_Instapay Attach:', 1.0290613383363638e-08), ('INDUSTRY_Tax Planner', 9.926360842365092e-09), ('STAGENAME_PRODUCT_New_CC Attach:', 2.087214822890367e-09), ('INDUSTRY_Notary', 1.1879395525976648e-09), ('STAGENAME_PRODUCT_Committed_ACH Attach: Instapay Attach:', 3.2028299938848107e-10), ('STAGENAME_PRODUCT_Closed Lost_CC Usage: Instapay Attach:', 4.700951219844553e-11), ('STAGENAME_PRODUCT_Contacted - No Response_CC Usage: Instapay Attach:', 6.354601554280967e-12), ('INDUSTRY_Barber', 0.0), ('INDUSTRY_Credit Counselor', 0.0), ('INDUSTRY_Financial Planner', 0.0), ('INDUSTRY_Massage', 0.0), ('STAGENAME_PRODUCT_Closed Lost_CC Attach: ACH Attach:', 0.0), ('STAGENAME_PRODUCT_Closed Lost_CC Attach: Card Reader:', 0.0), ('STAGENAME_PRODUCT_Coaching Attended_CC Usage:', 0.0), ('STAGENAME_PRODUCT_Coaching Attended_CC Usage: CC Attach: Instapay Attach:', 0.0), ('STAGENAME_PRODUCT_Coaching Attended_Instapay Attach:', 0.0), ('STAGENAME_PRODUCT_Committed_ACH Attach:', 0.0), ('STAGENAME_PRODUCT_Committed_ACH Usage:', 0.0), ('STAGENAME_PRODUCT_Committed_CC Attach: ACH Attach:', 0.0), ('STAGENAME_PRODUCT_Committed_CC Usage: CC Attach:', 0.0), ('STAGENAME_PRODUCT_Committed_CC Usage: CC Attach: Instapay Attach:', 0.0), ('STAGENAME_PRODUCT_Committed_CC Usage: Instapay Attach:', 0.0), ('STAGENAME_PRODUCT_New_CC Usage: Instapay Attach:', 0.0), ('STAGENAME_PRODUCT_Pending_CC Attach:', 0.0), ('STAGENAME_PRODUCT_Verified_CC Attach:', 0.0), ('STAGENAME_PRODUCT_Verified_CC Usage: Instapay Attach:', 0.0), ('STAGENAME_PRODUCT_Working_Instapay Attach:', 0.0)]\n"
     ]
    }
   ],
   "source": [
    "print(sorted_feat)\n"
   ]
  },
  {
   "cell_type": "code",
   "execution_count": 13,
   "metadata": {},
   "outputs": [],
   "source": [
    "# print(sorted_feat_new)"
   ]
  },
  {
   "cell_type": "code",
   "execution_count": 14,
   "metadata": {},
   "outputs": [],
   "source": [
    "# dump(clf, 'baseline.joblib')\n",
    "# dump(clf_new, 'baseline-multiclass.joblib')\n",
    "# clf = load('filename.joblib') \n"
   ]
  },
  {
   "cell_type": "code",
   "execution_count": null,
   "metadata": {},
   "outputs": [],
   "source": []
  },
  {
   "cell_type": "code",
   "execution_count": null,
   "metadata": {},
   "outputs": [],
   "source": []
  }
 ],
 "metadata": {
  "kernelspec": {
   "display_name": "Python 3",
   "language": "python",
   "name": "python3"
  },
  "language_info": {
   "codemirror_mode": {
    "name": "ipython",
    "version": 3
   },
   "file_extension": ".py",
   "mimetype": "text/x-python",
   "name": "python",
   "nbconvert_exporter": "python",
   "pygments_lexer": "ipython3",
   "version": "3.7.1"
  }
 },
 "nbformat": 4,
 "nbformat_minor": 2
}
