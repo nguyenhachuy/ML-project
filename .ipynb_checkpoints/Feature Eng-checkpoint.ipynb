{
 "cells": [
  {
   "cell_type": "code",
   "execution_count": 76,
   "metadata": {},
   "outputs": [
    {
     "name": "stderr",
     "output_type": "stream",
     "text": [
      "/anaconda3/lib/python3.7/site-packages/numpy/lib/arraysetops.py:522: FutureWarning: elementwise comparison failed; returning scalar instead, but in the future will perform elementwise comparison\n",
      "  mask |= (ar1 == a)\n"
     ]
    },
    {
     "name": "stdout",
     "output_type": "stream",
     "text": [
      "Success: Data loaded into dataframe.\n"
     ]
    }
   ],
   "source": [
    "import pandas as pd\n",
    "import numpy as np\n",
    "from pandas.api.types import CategoricalDtype    \n",
    " \n",
    "from sklearn.model_selection import train_test_split\n",
    "from sklearn import preprocessing\n",
    "from sklearn.ensemble import RandomForestClassifier\n",
    "from sklearn.pipeline import make_pipeline\n",
    "from sklearn.model_selection import GridSearchCV\n",
    "from sklearn.metrics import mean_squared_error, r2_score\n",
    "from sklearn.externals import joblib \n",
    "\n",
    "try:\n",
    "    df = pd.read_csv('./cc_attach_project.csv',index_col=0)\n",
    "    print('Success: Data loaded into dataframe.')\n",
    "except Exception as e:\n",
    "    print('Data load error: ',e)\n",
    "df = df.sample(n=20000, random_state=1)"
   ]
  },
  {
   "cell_type": "code",
   "execution_count": 77,
   "metadata": {},
   "outputs": [],
   "source": [
    "\n",
    "def combinations(cc_count, will_attach):\n",
    "    if cc_count > 0 and will_attach == 1:\n",
    "        return 0\n",
    "    elif cc_count <= 0 and will_attach == 0:\n",
    "        return 1\n",
    "    elif cc_count > 0 and will_attach == 0:\n",
    "        return 2\n",
    "    else:\n",
    "        return 3\n",
    "    \n",
    "to_drop = ['ORGANIZATION_ID', 'ENROLLMENT_DATE', 'DATE']\n",
    "df.drop(to_drop, inplace=True, axis=1)\n",
    "\n",
    "df['combination'] = df.apply(lambda row: combinations(row['CC_COUNT'], row['WILL_ATTACH_IN_60']), axis=1)\n",
    "df['STAGENAME_PRODUCT'] = df['STAGENAME_PRODUCT'].fillna('not called')\n",
    "df['INDUSTRY'] = df['INDUSTRY'].fillna('missing')\n",
    "df['CASH_PERC'] = df['CASH_PERC'].fillna(0.0)  \n",
    "df['CHECK_PERC'] = df['CHECK_PERC'].fillna(0.0)\n",
    "df['OTHER_PERC'] = df['OTHER_PERC'].fillna(0.0)\n",
    "df['ACH_PERC'] = df['ACH_PERC'].fillna(0.0)\n",
    "df['CC_PERC'] = df['CC_PERC'].fillna(0.0)\n",
    "df['BILLING_PLAN_ID'] = df['BILLING_PLAN_ID'].astype('int64')\n",
    "cat_dtype = CategoricalDtype(categories=(df['PLAN_TIER'].unique()), ordered=True)\n",
    "df['PLAN_TIER'] = df['PLAN_TIER'].astype(cat_dtype) #small > medium?\n",
    "df['INDUSTRY'] = df['INDUSTRY'].astype('category')\n",
    "df['ORGSIZE'] = df['ORGSIZE'].abs()\n",
    "df['ORGSIZE'].replace(0,1, inplace=True) #should I do this?\n",
    "#convert to all floats\n",
    "df = df.apply(pd.to_numeric, errors='ignore', downcast='float')\n"
   ]
  },
  {
   "cell_type": "code",
   "execution_count": 78,
   "metadata": {},
   "outputs": [
    {
     "name": "stdout",
     "output_type": "stream",
     "text": [
      "WILL_ATTACH_IN_60        float64\n",
      "PLAN_TIER                 object\n",
      "BILLING_PLAN_ID          float64\n",
      "CC_FEE                   float64\n",
      "ASP                      float64\n",
      "INDUSTRY                  object\n",
      "ORGSIZE                  float64\n",
      "BANK_CONNECTED           float64\n",
      "BANK_VERIFIED            float64\n",
      "CREATED                  float64\n",
      "SCHEDULED                float64\n",
      "OMW                      float64\n",
      "STARTED                  float64\n",
      "IN_PROGRESS              float64\n",
      "ESTIMATED                float64\n",
      "INVOICED                 float64\n",
      "TOTALPAYMENT_COUNT       float64\n",
      "TOTALPAYMENT_AMOUNT      float64\n",
      "ONLINE_BOOKINGS          float64\n",
      "CC_COUNT                 float64\n",
      "CC_AMOUNT                float64\n",
      "INSTAPAY_AMOUNT          float64\n",
      "ACH_COUNT                float64\n",
      "CASH_COUNT               float64\n",
      "CASH_AMOUNT              float64\n",
      "CHECK_COUNT              float64\n",
      "CHECK_AMOUNT             float64\n",
      "OTHER_COUNT              float64\n",
      "DAYS_SINCE_ENROLLMENT    float64\n",
      "REASON_TO_ADOPT          float64\n",
      "STAGENAME_PRODUCT         object\n",
      "CC_COUNT_ALL             float64\n",
      "AVG_TIME_TO_PAYMENT      float64\n",
      "COMMITMENTS_ALL          float64\n",
      "COMMITMENTS              float64\n",
      "CC_PERC                  float64\n",
      "CASH_PERC                float64\n",
      "CHECK_PERC               float64\n",
      "OTHER_PERC               float64\n",
      "ACH_PERC                 float64\n",
      "combination              float64\n",
      "dtype: object\n"
     ]
    }
   ],
   "source": [
    "for column in df:\n",
    "    if df[column].dtype == np.float32 or df[column].dtype == np.int64:\n",
    "        df[column] = df[column].astype('float64')\n",
    "print(df.dtypes)"
   ]
  },
  {
   "cell_type": "code",
   "execution_count": 79,
   "metadata": {},
   "outputs": [
    {
     "data": {
      "text/plain": [
       "WILL_ATTACH_IN_60        0\n",
       "PLAN_TIER                0\n",
       "BILLING_PLAN_ID          0\n",
       "CC_FEE                   0\n",
       "ASP                      0\n",
       "INDUSTRY                 0\n",
       "ORGSIZE                  0\n",
       "BANK_CONNECTED           0\n",
       "BANK_VERIFIED            0\n",
       "CREATED                  0\n",
       "SCHEDULED                0\n",
       "OMW                      0\n",
       "STARTED                  0\n",
       "IN_PROGRESS              0\n",
       "ESTIMATED                0\n",
       "INVOICED                 0\n",
       "TOTALPAYMENT_COUNT       0\n",
       "TOTALPAYMENT_AMOUNT      0\n",
       "ONLINE_BOOKINGS          0\n",
       "CC_COUNT                 0\n",
       "CC_AMOUNT                0\n",
       "INSTAPAY_AMOUNT          0\n",
       "ACH_COUNT                0\n",
       "CASH_COUNT               0\n",
       "CASH_AMOUNT              0\n",
       "CHECK_COUNT              0\n",
       "CHECK_AMOUNT             0\n",
       "OTHER_COUNT              0\n",
       "DAYS_SINCE_ENROLLMENT    0\n",
       "REASON_TO_ADOPT          0\n",
       "STAGENAME_PRODUCT        0\n",
       "CC_COUNT_ALL             0\n",
       "AVG_TIME_TO_PAYMENT      0\n",
       "COMMITMENTS_ALL          0\n",
       "COMMITMENTS              0\n",
       "CC_PERC                  0\n",
       "CASH_PERC                0\n",
       "CHECK_PERC               0\n",
       "OTHER_PERC               0\n",
       "ACH_PERC                 0\n",
       "combination              0\n",
       "dtype: int64"
      ]
     },
     "execution_count": 79,
     "metadata": {},
     "output_type": "execute_result"
    }
   ],
   "source": [
    "df.isna().sum()"
   ]
  },
  {
   "cell_type": "code",
   "execution_count": 80,
   "metadata": {},
   "outputs": [
    {
     "name": "stdout",
     "output_type": "stream",
     "text": [
      "(16000, 154) (4000, 154) (16000,) (4000,)\n"
     ]
    },
    {
     "name": "stderr",
     "output_type": "stream",
     "text": [
      "/anaconda3/lib/python3.7/site-packages/sklearn/preprocessing/data.py:625: DataConversionWarning: Data with input dtype uint8, float64 were all converted to float64 by StandardScaler.\n",
      "  return self.partial_fit(X, y)\n",
      "/anaconda3/lib/python3.7/site-packages/sklearn/utils/validation.py:595: DataConversionWarning: Data with input dtype int64 was converted to float64 by StandardScaler.\n",
      "  warnings.warn(msg, DataConversionWarning)\n",
      "/anaconda3/lib/python3.7/site-packages/ipykernel_launcher.py:14: DataConversionWarning: Data with input dtype uint8, float64 were all converted to float64 by StandardScaler.\n",
      "  \n",
      "/anaconda3/lib/python3.7/site-packages/sklearn/utils/validation.py:595: DataConversionWarning: Data with input dtype int64 was converted to float64 by StandardScaler.\n",
      "  warnings.warn(msg, DataConversionWarning)\n"
     ]
    }
   ],
   "source": [
    "y = df['combination'].astype('int64')\n",
    "to_drop = ['combination']\n",
    "df = df.drop(to_drop, axis=1)\n",
    "X = pd.get_dummies(df)\n",
    "X_train, X_test, y_train, y_test = train_test_split(X, y, \n",
    "                                                    test_size=0.2, \n",
    "                                                    random_state=123)\n",
    "print(X_train.shape, X_test.shape, y_train.shape, y_test.shape)\n",
    "y_train= y_train.values.reshape(-1, 1)\n",
    "y_test= y_test.values.reshape(-1, 1)\n",
    "\n",
    "scaler_X = preprocessing.StandardScaler().fit(X_train)\n",
    "scaler_y = preprocessing.StandardScaler().fit(y_train)\n",
    "X_train_scaled = scaler_X.transform(X_train)\n",
    "y_train_scaled = scaler_y.transform(y_train)\n",
    "\n"
   ]
  },
  {
   "cell_type": "code",
   "execution_count": 81,
   "metadata": {},
   "outputs": [],
   "source": [
    "clf = RandomForestClassifier(n_estimators=100, max_depth=None, max_features='sqrt',\n",
    "                              random_state=0)\n",
    "\n",
    "clf = make_pipeline(preprocessing.StandardScaler(), \n",
    "                         clf)\n"
   ]
  },
  {
   "cell_type": "code",
   "execution_count": 82,
   "metadata": {},
   "outputs": [
    {
     "name": "stderr",
     "output_type": "stream",
     "text": [
      "/anaconda3/lib/python3.7/site-packages/sklearn/pipeline.py:267: DataConversionWarning: A column-vector y was passed when a 1d array was expected. Please change the shape of y to (n_samples,), for example using ravel().\n",
      "  self._final_estimator.fit(Xt, y, **fit_params)\n"
     ]
    },
    {
     "ename": "ValueError",
     "evalue": "Unknown label type: 'continuous'",
     "output_type": "error",
     "traceback": [
      "\u001b[0;31m---------------------------------------------------------------------------\u001b[0m",
      "\u001b[0;31mValueError\u001b[0m                                Traceback (most recent call last)",
      "\u001b[0;32m<ipython-input-82-10e8a1462432>\u001b[0m in \u001b[0;36m<module>\u001b[0;34m\u001b[0m\n\u001b[0;32m----> 1\u001b[0;31m \u001b[0mclf\u001b[0m\u001b[0;34m.\u001b[0m\u001b[0mfit\u001b[0m\u001b[0;34m(\u001b[0m\u001b[0mX_train_scaled\u001b[0m\u001b[0;34m,\u001b[0m \u001b[0my_train_scaled\u001b[0m\u001b[0;34m)\u001b[0m\u001b[0;34m\u001b[0m\u001b[0;34m\u001b[0m\u001b[0m\n\u001b[0m",
      "\u001b[0;32m/anaconda3/lib/python3.7/site-packages/sklearn/pipeline.py\u001b[0m in \u001b[0;36mfit\u001b[0;34m(self, X, y, **fit_params)\u001b[0m\n\u001b[1;32m    265\u001b[0m         \u001b[0mXt\u001b[0m\u001b[0;34m,\u001b[0m \u001b[0mfit_params\u001b[0m \u001b[0;34m=\u001b[0m \u001b[0mself\u001b[0m\u001b[0;34m.\u001b[0m\u001b[0m_fit\u001b[0m\u001b[0;34m(\u001b[0m\u001b[0mX\u001b[0m\u001b[0;34m,\u001b[0m \u001b[0my\u001b[0m\u001b[0;34m,\u001b[0m \u001b[0;34m**\u001b[0m\u001b[0mfit_params\u001b[0m\u001b[0;34m)\u001b[0m\u001b[0;34m\u001b[0m\u001b[0;34m\u001b[0m\u001b[0m\n\u001b[1;32m    266\u001b[0m         \u001b[0;32mif\u001b[0m \u001b[0mself\u001b[0m\u001b[0;34m.\u001b[0m\u001b[0m_final_estimator\u001b[0m \u001b[0;32mis\u001b[0m \u001b[0;32mnot\u001b[0m \u001b[0;32mNone\u001b[0m\u001b[0;34m:\u001b[0m\u001b[0;34m\u001b[0m\u001b[0;34m\u001b[0m\u001b[0m\n\u001b[0;32m--> 267\u001b[0;31m             \u001b[0mself\u001b[0m\u001b[0;34m.\u001b[0m\u001b[0m_final_estimator\u001b[0m\u001b[0;34m.\u001b[0m\u001b[0mfit\u001b[0m\u001b[0;34m(\u001b[0m\u001b[0mXt\u001b[0m\u001b[0;34m,\u001b[0m \u001b[0my\u001b[0m\u001b[0;34m,\u001b[0m \u001b[0;34m**\u001b[0m\u001b[0mfit_params\u001b[0m\u001b[0;34m)\u001b[0m\u001b[0;34m\u001b[0m\u001b[0;34m\u001b[0m\u001b[0m\n\u001b[0m\u001b[1;32m    268\u001b[0m         \u001b[0;32mreturn\u001b[0m \u001b[0mself\u001b[0m\u001b[0;34m\u001b[0m\u001b[0;34m\u001b[0m\u001b[0m\n\u001b[1;32m    269\u001b[0m \u001b[0;34m\u001b[0m\u001b[0m\n",
      "\u001b[0;32m/anaconda3/lib/python3.7/site-packages/sklearn/ensemble/forest.py\u001b[0m in \u001b[0;36mfit\u001b[0;34m(self, X, y, sample_weight)\u001b[0m\n\u001b[1;32m    274\u001b[0m         \u001b[0mself\u001b[0m\u001b[0;34m.\u001b[0m\u001b[0mn_outputs_\u001b[0m \u001b[0;34m=\u001b[0m \u001b[0my\u001b[0m\u001b[0;34m.\u001b[0m\u001b[0mshape\u001b[0m\u001b[0;34m[\u001b[0m\u001b[0;36m1\u001b[0m\u001b[0;34m]\u001b[0m\u001b[0;34m\u001b[0m\u001b[0;34m\u001b[0m\u001b[0m\n\u001b[1;32m    275\u001b[0m \u001b[0;34m\u001b[0m\u001b[0m\n\u001b[0;32m--> 276\u001b[0;31m         \u001b[0my\u001b[0m\u001b[0;34m,\u001b[0m \u001b[0mexpanded_class_weight\u001b[0m \u001b[0;34m=\u001b[0m \u001b[0mself\u001b[0m\u001b[0;34m.\u001b[0m\u001b[0m_validate_y_class_weight\u001b[0m\u001b[0;34m(\u001b[0m\u001b[0my\u001b[0m\u001b[0;34m)\u001b[0m\u001b[0;34m\u001b[0m\u001b[0;34m\u001b[0m\u001b[0m\n\u001b[0m\u001b[1;32m    277\u001b[0m \u001b[0;34m\u001b[0m\u001b[0m\n\u001b[1;32m    278\u001b[0m         \u001b[0;32mif\u001b[0m \u001b[0mgetattr\u001b[0m\u001b[0;34m(\u001b[0m\u001b[0my\u001b[0m\u001b[0;34m,\u001b[0m \u001b[0;34m\"dtype\"\u001b[0m\u001b[0;34m,\u001b[0m \u001b[0;32mNone\u001b[0m\u001b[0;34m)\u001b[0m \u001b[0;34m!=\u001b[0m \u001b[0mDOUBLE\u001b[0m \u001b[0;32mor\u001b[0m \u001b[0;32mnot\u001b[0m \u001b[0my\u001b[0m\u001b[0;34m.\u001b[0m\u001b[0mflags\u001b[0m\u001b[0;34m.\u001b[0m\u001b[0mcontiguous\u001b[0m\u001b[0;34m:\u001b[0m\u001b[0;34m\u001b[0m\u001b[0;34m\u001b[0m\u001b[0m\n",
      "\u001b[0;32m/anaconda3/lib/python3.7/site-packages/sklearn/ensemble/forest.py\u001b[0m in \u001b[0;36m_validate_y_class_weight\u001b[0;34m(self, y)\u001b[0m\n\u001b[1;32m    474\u001b[0m \u001b[0;34m\u001b[0m\u001b[0m\n\u001b[1;32m    475\u001b[0m     \u001b[0;32mdef\u001b[0m \u001b[0m_validate_y_class_weight\u001b[0m\u001b[0;34m(\u001b[0m\u001b[0mself\u001b[0m\u001b[0;34m,\u001b[0m \u001b[0my\u001b[0m\u001b[0;34m)\u001b[0m\u001b[0;34m:\u001b[0m\u001b[0;34m\u001b[0m\u001b[0;34m\u001b[0m\u001b[0m\n\u001b[0;32m--> 476\u001b[0;31m         \u001b[0mcheck_classification_targets\u001b[0m\u001b[0;34m(\u001b[0m\u001b[0my\u001b[0m\u001b[0;34m)\u001b[0m\u001b[0;34m\u001b[0m\u001b[0;34m\u001b[0m\u001b[0m\n\u001b[0m\u001b[1;32m    477\u001b[0m \u001b[0;34m\u001b[0m\u001b[0m\n\u001b[1;32m    478\u001b[0m         \u001b[0my\u001b[0m \u001b[0;34m=\u001b[0m \u001b[0mnp\u001b[0m\u001b[0;34m.\u001b[0m\u001b[0mcopy\u001b[0m\u001b[0;34m(\u001b[0m\u001b[0my\u001b[0m\u001b[0;34m)\u001b[0m\u001b[0;34m\u001b[0m\u001b[0;34m\u001b[0m\u001b[0m\n",
      "\u001b[0;32m/anaconda3/lib/python3.7/site-packages/sklearn/utils/multiclass.py\u001b[0m in \u001b[0;36mcheck_classification_targets\u001b[0;34m(y)\u001b[0m\n\u001b[1;32m    169\u001b[0m     if y_type not in ['binary', 'multiclass', 'multiclass-multioutput',\n\u001b[1;32m    170\u001b[0m                       'multilabel-indicator', 'multilabel-sequences']:\n\u001b[0;32m--> 171\u001b[0;31m         \u001b[0;32mraise\u001b[0m \u001b[0mValueError\u001b[0m\u001b[0;34m(\u001b[0m\u001b[0;34m\"Unknown label type: %r\"\u001b[0m \u001b[0;34m%\u001b[0m \u001b[0my_type\u001b[0m\u001b[0;34m)\u001b[0m\u001b[0;34m\u001b[0m\u001b[0;34m\u001b[0m\u001b[0m\n\u001b[0m\u001b[1;32m    172\u001b[0m \u001b[0;34m\u001b[0m\u001b[0m\n\u001b[1;32m    173\u001b[0m \u001b[0;34m\u001b[0m\u001b[0m\n",
      "\u001b[0;31mValueError\u001b[0m: Unknown label type: 'continuous'"
     ]
    }
   ],
   "source": [
    "clf.fit(X_train_scaled, y_train_scaled)\n"
   ]
  },
  {
   "cell_type": "code",
   "execution_count": null,
   "metadata": {},
   "outputs": [],
   "source": [
    "X_test_scaled = scaler_X.transform(X_test)\n",
    "y_test_scaled = scaler_y.transform(y_test)\n",
    "pred = clf.score(X_test_scaled)\n",
    "print(pred)"
   ]
  }
 ],
 "metadata": {
  "kernelspec": {
   "display_name": "Python 3",
   "language": "python",
   "name": "python3"
  },
  "language_info": {
   "codemirror_mode": {
    "name": "ipython",
    "version": 3
   },
   "file_extension": ".py",
   "mimetype": "text/x-python",
   "name": "python",
   "nbconvert_exporter": "python",
   "pygments_lexer": "ipython3",
   "version": "3.7.1"
  }
 },
 "nbformat": 4,
 "nbformat_minor": 2
}
